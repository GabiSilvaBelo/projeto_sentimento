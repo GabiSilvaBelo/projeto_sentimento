{
 "cells": [
  {
   "cell_type": "code",
   "execution_count": null,
   "id": "28ee254e",
   "metadata": {
    "vscode": {
     "languageId": "plaintext"
    }
   },
   "outputs": [],
   "source": [
    "import pandas as pd\n",
    "import seaborn as sns\n",
    "import matplotlib.pyplot as plt\n",
    "\n",
    "df = pd.read_csv(\"../data/raw/avaliacoes.csv\")\n",
    "print(df.head())\n",
    "sns.countplot(x='nota', data=df)\n",
    "plt.show()\n"
   ]
  }
 ],
 "metadata": {
  "language_info": {
   "name": "python"
  }
 },
 "nbformat": 4,
 "nbformat_minor": 5
}
